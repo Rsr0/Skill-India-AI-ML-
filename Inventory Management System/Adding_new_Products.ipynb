{
 "cells": [
  {
   "cell_type": "markdown",
   "metadata": {
    "id": "j9rSMgKytN9V"
   },
   "source": [
    "## Read Data from JSON"
   ]
  },
  {
   "cell_type": "code",
   "execution_count": 1,
   "metadata": {
    "id": "wlQdKmzYpRok"
   },
   "outputs": [],
   "source": [
    "import json\n",
    "fd = open(\"record.json\",'r')\n",
    "r = fd.read()\n",
    "fd.close()\n",
    "\n",
    "record = json.loads(r)"
   ]
  },
  {
   "cell_type": "code",
   "execution_count": 3,
   "metadata": {},
   "outputs": [
    {
     "data": {
      "text/plain": [
       "{'1001': {'name': 'Apple', 'cat': 'fruit', 'pr': 200, 'qn': 50, 'off': 5},\n",
       " '1002': {'name': 'Milk Cake',\n",
       "  'cat': 'bakery',\n",
       "  'pr': 800,\n",
       "  'qn': 500,\n",
       "  'off': 100},\n",
       " '1003': {'name': 'Drink', 'cat': 'beverage', 'pr': 85, 'qn': 100, 'off': 10},\n",
       " '1004': {'name': 'Candy', 'cat': 'sweets', 'pr': 10, 'qn': 900, 'off': 4},\n",
       " '1005': {'name': 'Pen', 'cat': 'stationery', 'pr': 20, 'qn': 100, 'off': 5},\n",
       " '1006': {'name': 'Phone',\n",
       "  'cat': 'electronics',\n",
       "  'pr': 50000,\n",
       "  'qn': 10,\n",
       "  'off': 1000},\n",
       " '1007': {'name': 'Mic',\n",
       "  'cat': 'electronics',\n",
       "  'pr': 1500,\n",
       "  'qn': 500,\n",
       "  'off': 120},\n",
       " '1008': {'name': 'Case', 'cat': 'accessories', 'pr': 599, 'qn': 3, 'off': 20},\n",
       " '1009': {'name': 'Keyboard',\n",
       "  'cat': 'accessories',\n",
       "  'pr': 1999,\n",
       "  'qn': 10,\n",
       "  'off': 99},\n",
       " '1010': {'name': 'Kurkure', 'cat': 'snacks', 'pr': 10, 'qn': 43, 'off': 0},\n",
       " '1011': {'name': 'Tshirt', 'cat': 'fashion', 'pr': 500, 'qn': 1, 'off': 11},\n",
       " '1012': {'name': 'TV',\n",
       "  'cat': 'electronics',\n",
       "  'pr': 500000,\n",
       "  'qn': 10,\n",
       "  'off': 500},\n",
       " '1013': {'name': 'lays', 'cat': 'snacks', 'pr': 10, 'qn': 40, 'off': 2},\n",
       " '1014': {'name': 'Shoes', 'cat': 'fashion', 'pr': 999, 'qn': 12, 'off': 199},\n",
       " '1015': {'name': 'kurtas', 'cat': 'fashion', 'pr': 599, 'qn': 32, 'off': 55},\n",
       " '1016': {'name': 'Dairy milk',\n",
       "  'cat': 'grocery',\n",
       "  'pr': 50,\n",
       "  'qn': 99,\n",
       "  'off': 15},\n",
       " '1017': {'name': 'Almonds',\n",
       "  'cat': 'grocery',\n",
       "  'pr': 300,\n",
       "  'qn': 100,\n",
       "  'off': 20},\n",
       " '1018': {'name': 'Meat', 'cat': 'grocery', 'pr': 500, 'qn': 6, 'off': 65},\n",
       " '1019': {'name': 'Watch',\n",
       "  'cat': 'accessories',\n",
       "  'pr': 5000,\n",
       "  'qn': 6,\n",
       "  'off': 900},\n",
       " '1020': {'name': 'Jeans', 'cat': 'fashion', 'pr': 1100, 'qn': 99, 'off': 100},\n",
       " '1021': {'name': 'hoddies',\n",
       "  'cat': 'fashion',\n",
       "  'pr': 2011,\n",
       "  'qn': 15,\n",
       "  'off': 211},\n",
       " '1022': {'name': 'Mask', 'cat': 'fashion', 'pr': 10, 'qn': 9968, 'off': 5},\n",
       " '1023': {'name': 'Macbook',\n",
       "  'cat': 'electronics',\n",
       "  'pr': 90000,\n",
       "  'qn': 10,\n",
       "  'off': 2000},\n",
       " '1024': {'name': 'Notebook',\n",
       "  'cat': 'stationery',\n",
       "  'pr': 50,\n",
       "  'qn': 478,\n",
       "  'off': 10},\n",
       " '1025': {'name': 'Fevicol',\n",
       "  'cat': 'stationery',\n",
       "  'pr': 20,\n",
       "  'qn': 59,\n",
       "  'off': 5},\n",
       " '1026': {'name': 'Helmet',\n",
       "  'cat': 'accessories',\n",
       "  'pr': 2000,\n",
       "  'qn': 194,\n",
       "  'off': 100},\n",
       " '1027': {'name': 'Bat', 'cat': 'sports', 'pr': 1000, 'qn': 70, 'off': 99},\n",
       " '1028': {'name': 'Badminton',\n",
       "  'cat': 'sports',\n",
       "  'pr': 599,\n",
       "  'qn': 90,\n",
       "  'off': 99},\n",
       " '1029': {'name': 'Banana', 'cat': 'fruits', 'pr': 55, 'qn': 24, 'off': 10},\n",
       " '1030': {'name': 'Lady finger',\n",
       "  'cat': 'vegetables',\n",
       "  'pr': 40,\n",
       "  'qn': 60,\n",
       "  'off': 5},\n",
       " '1031': {'name': 'Real juice',\n",
       "  'cat': 'grocery',\n",
       "  'pr': 110,\n",
       "  'qn': 39,\n",
       "  'off': 11}}"
      ]
     },
     "execution_count": 3,
     "metadata": {},
     "output_type": "execute_result"
    }
   ],
   "source": [
    "record"
   ]
  },
  {
   "cell_type": "markdown",
   "metadata": {
    "id": "fNniKChHtFsH"
   },
   "source": [
    "## Add New Item or Quantity into Inventory"
   ]
  },
  {
   "cell_type": "code",
   "execution_count": 100,
   "metadata": {
    "colab": {
     "base_uri": "https://localhost:8080/"
    },
    "id": "f61BridoqxZN",
    "outputId": "4919a5d7-b839-41df-ec08-b4f39107e984"
   },
   "outputs": [
    {
     "name": "stdout",
     "output_type": "stream",
     "text": [
      "Enter product id:1004\n",
      "name : Candy\n",
      "cat : sweets\n",
      "pr : 10\n",
      "qn : 990\n",
      "off : 10\n",
      "Enter new price:10\n",
      "Enter stock to add:10\n",
      "Enter updated discount:4\n"
     ]
    }
   ],
   "source": [
    "\n",
    "prod_id = str(input(\"Enter product id:\"))\n",
    "\n",
    "i=prod_id\n",
    "if i in record.keys():\n",
    "    for k,v in record[i].items():\n",
    "        print(k,\":\",v)\n",
    "    pr = int(input(\"Enter new price:\"))\n",
    "    qn = int(input(\"Enter stock to add:\")) \n",
    "    off = int(input(\"Enter updated discount:\"))\n",
    "    record[i]['qn']+=qn\n",
    "    record[i]['pr']=pr\n",
    "    record[i]['off']=off\n",
    "else:        \n",
    "    name = str(input(\"Enter name:\"))\n",
    "    cat = str(input(\"Enter category:\"))\n",
    "    pr = int(input(\"Enter price:\"))\n",
    "    qn = int(input(\"Enter quantity:\"))\n",
    "    off = int(input(\"Enter discount:\"))\n",
    "    record[prod_id] = {'name': name,'cat':cat, 'pr': pr, 'qn': qn, 'off': off}"
   ]
  },
  {
   "cell_type": "code",
   "execution_count": 101,
   "metadata": {
    "scrolled": false
   },
   "outputs": [
    {
     "name": "stdout",
     "output_type": "stream",
     "text": [
      "31\n"
     ]
    }
   ],
   "source": [
    "total_items=len(record)\n",
    "print(total_items)"
   ]
  },
  {
   "cell_type": "markdown",
   "metadata": {},
   "source": [
    "## Adding  attribute"
   ]
  },
  {
   "cell_type": "code",
   "execution_count": 84,
   "metadata": {
    "colab": {
     "base_uri": "https://localhost:8080/"
    },
    "id": "N8fCrfQHqlUN",
    "outputId": "04f7a640-bbad-429c-d7d1-686ca5ec14e2"
   },
   "outputs": [],
   "source": [
    "# for i in record.keys():\n",
    "#     record[i]['off']=int(input())\n",
    "\n",
    "# for i in record.keys():\n",
    "#     p=record[i]\n",
    "#     name=p['name']\n",
    "#     cat=p['cat']\n",
    "#     pr=p['pr']\n",
    "#     qn=p['qn']\n",
    "#     off=p['off']\n",
    "    \n",
    "#     record[i] = {'name': name,'cat':cat, 'pr': pr, 'qn': qn, 'off':off}"
   ]
  },
  {
   "cell_type": "code",
   "execution_count": 22,
   "metadata": {},
   "outputs": [],
   "source": []
  },
  {
   "cell_type": "markdown",
   "metadata": {},
   "source": [
    "## Updated inventory"
   ]
  },
  {
   "cell_type": "code",
   "execution_count": 102,
   "metadata": {},
   "outputs": [],
   "source": [
    "js = json.dumps(record)\n",
    "\n",
    "fd = open(\"record.json\",'w')\n",
    "fd.write(js)\n",
    "fd.close()"
   ]
  },
  {
   "cell_type": "code",
   "execution_count": 103,
   "metadata": {
    "colab": {
     "base_uri": "https://localhost:8080/"
    },
    "id": "fqLcVGqqt_cO",
    "outputId": "889a130b-8562-4a35-d430-645ff64724d3"
   },
   "outputs": [
    {
     "data": {
      "text/plain": [
       "{'1001': {'name': 'Apple', 'cat': 'fruit', 'pr': 200, 'qn': 50, 'off': 5},\n",
       " '1002': {'name': 'Milk Cake',\n",
       "  'cat': 'bakery',\n",
       "  'pr': 800,\n",
       "  'qn': 500,\n",
       "  'off': 100},\n",
       " '1003': {'name': 'Drink', 'cat': 'beverage', 'pr': 85, 'qn': 100, 'off': 10},\n",
       " '1004': {'name': 'Candy', 'cat': 'sweets', 'pr': 10, 'qn': 1000, 'off': 4},\n",
       " '1005': {'name': 'Pen', 'cat': 'stationery', 'pr': 20, 'qn': 100, 'off': 5},\n",
       " '1006': {'name': 'Phone',\n",
       "  'cat': 'electronics',\n",
       "  'pr': 50000,\n",
       "  'qn': 10,\n",
       "  'off': 1000},\n",
       " '1007': {'name': 'Mic',\n",
       "  'cat': 'electronics',\n",
       "  'pr': 1500,\n",
       "  'qn': 500,\n",
       "  'off': 120},\n",
       " '1008': {'name': 'Case', 'cat': 'accessories', 'pr': 599, 'qn': 3, 'off': 20},\n",
       " '1009': {'name': 'Keyboard',\n",
       "  'cat': 'accessories',\n",
       "  'pr': 1999,\n",
       "  'qn': 10,\n",
       "  'off': 99},\n",
       " '1010': {'name': 'Kurkure', 'cat': 'snacks', 'pr': 10, 'qn': 43, 'off': 0},\n",
       " '1011': {'name': 'Tshirt', 'cat': 'fashion', 'pr': 500, 'qn': 1, 'off': 11},\n",
       " '1012': {'name': 'TV',\n",
       "  'cat': 'electronics',\n",
       "  'pr': 500000,\n",
       "  'qn': 10,\n",
       "  'off': 500},\n",
       " '1013': {'name': 'lays', 'cat': 'snacks', 'pr': 10, 'qn': 40, 'off': 2},\n",
       " '1014': {'name': 'Shoes', 'cat': 'fashion', 'pr': 999, 'qn': 12, 'off': 199},\n",
       " '1015': {'name': 'kurtas', 'cat': 'fashion', 'pr': 599, 'qn': 32, 'off': 55},\n",
       " '1016': {'name': 'Dairy milk',\n",
       "  'cat': 'grocery',\n",
       "  'pr': 50,\n",
       "  'qn': 99,\n",
       "  'off': 15},\n",
       " '1017': {'name': 'Almonds',\n",
       "  'cat': 'grocery',\n",
       "  'pr': 300,\n",
       "  'qn': 100,\n",
       "  'off': 20},\n",
       " '1018': {'name': 'Meat', 'cat': 'grocery', 'pr': 500, 'qn': 6, 'off': 65},\n",
       " '1019': {'name': 'Watch',\n",
       "  'cat': 'accessories',\n",
       "  'pr': 5000,\n",
       "  'qn': 6,\n",
       "  'off': 900},\n",
       " '1020': {'name': 'Jeans', 'cat': 'fashion', 'pr': 1100, 'qn': 99, 'off': 100},\n",
       " '1021': {'name': 'hoddies',\n",
       "  'cat': 'fashion',\n",
       "  'pr': 2011,\n",
       "  'qn': 15,\n",
       "  'off': 211},\n",
       " '1022': {'name': 'Mask', 'cat': 'fashion', 'pr': 10, 'qn': 9968, 'off': 5},\n",
       " '1023': {'name': 'Macbook',\n",
       "  'cat': 'electronics',\n",
       "  'pr': 90000,\n",
       "  'qn': 10,\n",
       "  'off': 2000},\n",
       " '1024': {'name': 'Notebook',\n",
       "  'cat': 'stationery',\n",
       "  'pr': 50,\n",
       "  'qn': 478,\n",
       "  'off': 10},\n",
       " '1025': {'name': 'Fevicol',\n",
       "  'cat': 'stationery',\n",
       "  'pr': 20,\n",
       "  'qn': 59,\n",
       "  'off': 5},\n",
       " '1026': {'name': 'Helmet',\n",
       "  'cat': 'accessories',\n",
       "  'pr': 2000,\n",
       "  'qn': 194,\n",
       "  'off': 100},\n",
       " '1027': {'name': 'Bat', 'cat': 'sports', 'pr': 1000, 'qn': 70, 'off': 99},\n",
       " '1028': {'name': 'Badminton',\n",
       "  'cat': 'sports',\n",
       "  'pr': 599,\n",
       "  'qn': 90,\n",
       "  'off': 99},\n",
       " '1029': {'name': 'Banana', 'cat': 'fruits', 'pr': 55, 'qn': 24, 'off': 10},\n",
       " '1030': {'name': 'Lady finger',\n",
       "  'cat': 'vegetables',\n",
       "  'pr': 40,\n",
       "  'qn': 60,\n",
       "  'off': 5},\n",
       " '1031': {'name': 'Real juice',\n",
       "  'cat': 'grocery',\n",
       "  'pr': 110,\n",
       "  'qn': 39,\n",
       "  'off': 11}}"
      ]
     },
     "execution_count": 103,
     "metadata": {},
     "output_type": "execute_result"
    }
   ],
   "source": [
    "record"
   ]
  },
  {
   "cell_type": "code",
   "execution_count": null,
   "metadata": {},
   "outputs": [],
   "source": []
  }
 ],
 "metadata": {
  "colab": {
   "name": "Adding new Products",
   "provenance": []
  },
  "kernelspec": {
   "display_name": "Python 3",
   "language": "python",
   "name": "python3"
  },
  "language_info": {
   "codemirror_mode": {
    "name": "ipython",
    "version": 3
   },
   "file_extension": ".py",
   "mimetype": "text/x-python",
   "name": "python",
   "nbconvert_exporter": "python",
   "pygments_lexer": "ipython3",
   "version": "3.8.5"
  }
 },
 "nbformat": 4,
 "nbformat_minor": 1
}
