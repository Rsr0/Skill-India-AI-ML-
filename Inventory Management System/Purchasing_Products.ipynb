{
 "cells": [
  {
   "cell_type": "markdown",
   "metadata": {
    "id": "R6NHgAYkxqSl"
   },
   "source": [
    "## Read Inventory"
   ]
  },
  {
   "cell_type": "code",
   "execution_count": 128,
   "metadata": {
    "id": "jkJT24jqug9n"
   },
   "outputs": [],
   "source": [
    "import json\n",
    "import time\n",
    "\n",
    "fd = open(\"record.json\",'r')\n",
    "r = fd.read()\n",
    "fd.close()\n",
    "\n",
    "records = json.loads(r)"
   ]
  },
  {
   "cell_type": "code",
   "execution_count": 129,
   "metadata": {
    "colab": {
     "base_uri": "https://localhost:8080/"
    },
    "id": "CcLYokrlus6z",
    "outputId": "525ffebc-7e32-463b-b0a4-2e6e9fc73f7c",
    "scrolled": true
   },
   "outputs": [
    {
     "data": {
      "text/plain": [
       "{'1001': {'name': 'Apple', 'cat': 'fruit', 'pr': 200, 'qn': 50, 'off': 5},\n",
       " '1002': {'name': 'Milk Cake',\n",
       "  'cat': 'bakery',\n",
       "  'pr': 800,\n",
       "  'qn': 500,\n",
       "  'off': 100},\n",
       " '1003': {'name': 'Drink', 'cat': 'beverage', 'pr': 85, 'qn': 100, 'off': 10},\n",
       " '1004': {'name': 'Candy', 'cat': 'sweets', 'pr': 10, 'qn': 1000, 'off': 4},\n",
       " '1005': {'name': 'Pen', 'cat': 'stationery', 'pr': 20, 'qn': 100, 'off': 5},\n",
       " '1006': {'name': 'Phone',\n",
       "  'cat': 'electronics',\n",
       "  'pr': 50000,\n",
       "  'qn': 10,\n",
       "  'off': 1000},\n",
       " '1007': {'name': 'Mic',\n",
       "  'cat': 'electronics',\n",
       "  'pr': 1500,\n",
       "  'qn': 500,\n",
       "  'off': 120},\n",
       " '1008': {'name': 'Case', 'cat': 'accessories', 'pr': 599, 'qn': 3, 'off': 20},\n",
       " '1009': {'name': 'Keyboard',\n",
       "  'cat': 'accessories',\n",
       "  'pr': 1999,\n",
       "  'qn': 10,\n",
       "  'off': 99},\n",
       " '1010': {'name': 'Kurkure', 'cat': 'snacks', 'pr': 10, 'qn': 43, 'off': 0},\n",
       " '1011': {'name': 'Tshirt', 'cat': 'fashion', 'pr': 500, 'qn': 1, 'off': 11},\n",
       " '1012': {'name': 'TV',\n",
       "  'cat': 'electronics',\n",
       "  'pr': 500000,\n",
       "  'qn': 10,\n",
       "  'off': 500},\n",
       " '1013': {'name': 'lays', 'cat': 'snacks', 'pr': 10, 'qn': 40, 'off': 2},\n",
       " '1014': {'name': 'Shoes', 'cat': 'fashion', 'pr': 999, 'qn': 12, 'off': 199},\n",
       " '1015': {'name': 'kurtas', 'cat': 'fashion', 'pr': 599, 'qn': 32, 'off': 55},\n",
       " '1016': {'name': 'Dairy milk',\n",
       "  'cat': 'grocery',\n",
       "  'pr': 50,\n",
       "  'qn': 99,\n",
       "  'off': 15},\n",
       " '1017': {'name': 'Almonds',\n",
       "  'cat': 'grocery',\n",
       "  'pr': 300,\n",
       "  'qn': 100,\n",
       "  'off': 20},\n",
       " '1018': {'name': 'Meat', 'cat': 'grocery', 'pr': 500, 'qn': 6, 'off': 65},\n",
       " '1019': {'name': 'Watch',\n",
       "  'cat': 'accessories',\n",
       "  'pr': 5000,\n",
       "  'qn': 6,\n",
       "  'off': 900},\n",
       " '1020': {'name': 'Jeans', 'cat': 'fashion', 'pr': 1100, 'qn': 99, 'off': 100},\n",
       " '1021': {'name': 'hoddies',\n",
       "  'cat': 'fashion',\n",
       "  'pr': 2011,\n",
       "  'qn': 15,\n",
       "  'off': 211},\n",
       " '1022': {'name': 'Mask', 'cat': 'fashion', 'pr': 10, 'qn': 9968, 'off': 5},\n",
       " '1023': {'name': 'Macbook',\n",
       "  'cat': 'electronics',\n",
       "  'pr': 90000,\n",
       "  'qn': 10,\n",
       "  'off': 2000},\n",
       " '1024': {'name': 'Notebook',\n",
       "  'cat': 'stationery',\n",
       "  'pr': 50,\n",
       "  'qn': 478,\n",
       "  'off': 10},\n",
       " '1025': {'name': 'Fevicol',\n",
       "  'cat': 'stationery',\n",
       "  'pr': 20,\n",
       "  'qn': 59,\n",
       "  'off': 5},\n",
       " '1026': {'name': 'Helmet',\n",
       "  'cat': 'accessories',\n",
       "  'pr': 2000,\n",
       "  'qn': 194,\n",
       "  'off': 100},\n",
       " '1027': {'name': 'Bat', 'cat': 'sports', 'pr': 1000, 'qn': 70, 'off': 99},\n",
       " '1028': {'name': 'Badminton',\n",
       "  'cat': 'sports',\n",
       "  'pr': 599,\n",
       "  'qn': 90,\n",
       "  'off': 99},\n",
       " '1029': {'name': 'Banana', 'cat': 'fruits', 'pr': 55, 'qn': 24, 'off': 10},\n",
       " '1030': {'name': 'Lady finger',\n",
       "  'cat': 'vegetables',\n",
       "  'pr': 40,\n",
       "  'qn': 60,\n",
       "  'off': 5},\n",
       " '1031': {'name': 'Real juice',\n",
       "  'cat': 'grocery',\n",
       "  'pr': 110,\n",
       "  'qn': 39,\n",
       "  'off': 11}}"
      ]
     },
     "execution_count": 129,
     "metadata": {},
     "output_type": "execute_result"
    }
   ],
   "source": [
    "records"
   ]
  },
  {
   "cell_type": "code",
   "execution_count": null,
   "metadata": {},
   "outputs": [],
   "source": []
  },
  {
   "cell_type": "markdown",
   "metadata": {
    "id": "WI5f7HTuxwzb"
   },
   "source": [
    "## Purchase"
   ]
  },
  {
   "cell_type": "code",
   "execution_count": 130,
   "metadata": {
    "colab": {
     "base_uri": "https://localhost:8080/"
    },
    "id": "c4E4eIvyuth0",
    "outputId": "91896933-af33-4e3e-ad2b-478c1243c6a3"
   },
   "outputs": [
    {
     "name": "stdout",
     "output_type": "stream",
     "text": [
      "Enter the product_Id: 1004\n",
      "Enter the quantity: 100\n",
      "Product:  Candy\n",
      "Category:  sweets\n",
      "Price:  10\n",
      "Quantity Left:  900\n",
      "Discount off:  4\n",
      "Total Amount:  1000\n",
      "Billing Amount:  600\n"
     ]
    }
   ],
   "source": [
    "ui_prod  = str(input(\"Enter the product_Id: \"))\n",
    "ui_quant = int(input(\"Enter the quantity: \"))\n",
    "\n",
    "prod=records[ui_prod]\n",
    "if(ui_quant > prod['qn']):\n",
    "    print(prod['qn'],prod['name'],\"had left only\",sep=\" \")\n",
    "else:\n",
    "    \n",
    "    prod['qn'] = prod['qn'] - ui_quant\n",
    "    print(\"Product: \", prod['name'])\n",
    "    print(\"Category: \", prod['cat'])\n",
    "    print(\"Price: \", prod['pr'])\n",
    "    print(\"Quantity Left: \",prod['qn'] )\n",
    "    print(\"Discount off: \",prod['off'])\n",
    "    print(\"Total Amount: \", prod['pr'] * ui_quant)\n",
    "    print(\"Billing Amount: \", (prod['pr']-prod['off']) * ui_quant)\n",
    "\n",
    "    sales[len(sales)+1]={'prod' : ui_prod, 'qn' : ui_quant, 'amount': (records[ui_prod]['pr']-records[ui_prod]['off']) * ui_quant, 'time': time.ctime()}"
   ]
  },
  {
   "cell_type": "code",
   "execution_count": 131,
   "metadata": {
    "scrolled": true
   },
   "outputs": [
    {
     "data": {
      "text/plain": [
       "13"
      ]
     },
     "execution_count": 131,
     "metadata": {},
     "output_type": "execute_result"
    }
   ],
   "source": [
    "len(sales)"
   ]
  },
  {
   "cell_type": "code",
   "execution_count": null,
   "metadata": {},
   "outputs": [],
   "source": []
  },
  {
   "cell_type": "markdown",
   "metadata": {
    "id": "3h8S8JBVx1_D"
   },
   "source": [
    "## Update Inventory after purchase"
   ]
  },
  {
   "cell_type": "code",
   "execution_count": 132,
   "metadata": {
    "id": "TO68fUvvwzXt"
   },
   "outputs": [],
   "source": [
    "js = json.dumps(records)\n",
    "\n",
    "fd = open(\"record.json\",'w')\n",
    "fd.write(js)\n",
    "fd.close()"
   ]
  },
  {
   "cell_type": "code",
   "execution_count": null,
   "metadata": {},
   "outputs": [],
   "source": []
  },
  {
   "cell_type": "markdown",
   "metadata": {
    "id": "pl_p5yDpyu_9"
   },
   "source": [
    "## Sales JSON"
   ]
  },
  {
   "cell_type": "code",
   "execution_count": 91,
   "metadata": {
    "colab": {
     "base_uri": "https://localhost:8080/"
    },
    "id": "FwBezn_LxBV4",
    "outputId": "e1fb37d9-17c3-4cde-de23-4f9057e74203"
   },
   "outputs": [],
   "source": [
    "# {'prod' : ui_prod, 'qn' : ui_quant, 'amount': records[ui_prod]['pr'] * ui_quant}"
   ]
  },
  {
   "cell_type": "code",
   "execution_count": 93,
   "metadata": {},
   "outputs": [],
   "source": [
    "# sales={}"
   ]
  },
  {
   "cell_type": "code",
   "execution_count": 95,
   "metadata": {},
   "outputs": [],
   "source": [
    "# sales[len(sales)+1]={'prod' : ui_prod, 'qn' : ui_quant, 'amount': (records[ui_prod]['pr']-records[ui_prod]['off']) * ui_quant, 'time': time.ctime()}"
   ]
  },
  {
   "cell_type": "code",
   "execution_count": 133,
   "metadata": {},
   "outputs": [
    {
     "data": {
      "text/plain": [
       "{1: {'prod': '1001',\n",
       "  'qn': 20,\n",
       "  'amount': 3900,\n",
       "  'time': 'Mon Sep  6 09:10:26 2021'},\n",
       " 2: {'prod': '1005',\n",
       "  'qn': 10,\n",
       "  'amount': 150,\n",
       "  'time': 'Mon Sep  6 09:11:15 2021'},\n",
       " 3: {'prod': '1029',\n",
       "  'qn': 12,\n",
       "  'amount': 540,\n",
       "  'time': 'Mon Sep  6 09:13:06 2021'},\n",
       " 4: {'prod': '1022',\n",
       "  'qn': 34,\n",
       "  'amount': 170,\n",
       "  'time': 'Mon Sep  6 09:13:17 2021'},\n",
       " 5: {'prod': '1019',\n",
       "  'qn': 2,\n",
       "  'amount': 8200,\n",
       "  'time': 'Mon Sep  6 09:13:30 2021'},\n",
       " 6: {'prod': '1012',\n",
       "  'qn': 5,\n",
       "  'amount': 2497500,\n",
       "  'time': 'Mon Sep  6 09:13:52 2021'},\n",
       " 7: {'prod': '1004',\n",
       "  'qn': 32,\n",
       "  'amount': 128,\n",
       "  'time': 'Mon Sep  6 09:13:59 2021'},\n",
       " 8: {'prod': '1017',\n",
       "  'qn': 30,\n",
       "  'amount': 8400,\n",
       "  'time': 'Mon Sep  6 09:14:11 2021'},\n",
       " 9: {'prod': '1025',\n",
       "  'qn': 48,\n",
       "  'amount': 720,\n",
       "  'time': 'Mon Sep  6 09:14:18 2021'},\n",
       " 10: {'prod': '1008',\n",
       "  'qn': 2,\n",
       "  'amount': 1158,\n",
       "  'time': 'Mon Sep  6 09:14:37 2021'},\n",
       " 11: {'prod': '1002',\n",
       "  'qn': 400,\n",
       "  'amount': 280000,\n",
       "  'time': 'Mon Sep  6 09:14:54 2021'},\n",
       " 12: {'prod': '1004',\n",
       "  'qn': 20,\n",
       "  'amount': 0,\n",
       "  'time': 'Mon Sep  6 09:22:21 2021'},\n",
       " 13: {'prod': '1004',\n",
       "  'qn': 100,\n",
       "  'amount': 600,\n",
       "  'time': 'Mon Sep  6 09:23:22 2021'}}"
      ]
     },
     "execution_count": 133,
     "metadata": {},
     "output_type": "execute_result"
    }
   ],
   "source": [
    "sales\n"
   ]
  },
  {
   "cell_type": "code",
   "execution_count": 81,
   "metadata": {},
   "outputs": [],
   "source": [
    "# sales.clear()"
   ]
  },
  {
   "cell_type": "code",
   "execution_count": 134,
   "metadata": {
    "colab": {
     "base_uri": "https://localhost:8080/",
     "height": 52
    },
    "id": "LRbOdbiUycNe",
    "outputId": "d2f68e95-b223-4d6b-f3f0-155466fc18a0"
   },
   "outputs": [],
   "source": [
    "sale = json.dumps(sales)"
   ]
  },
  {
   "cell_type": "code",
   "execution_count": 135,
   "metadata": {},
   "outputs": [],
   "source": [
    "fd = open(\"sales.json\",'w')\n",
    "fd.write(sale)\n",
    "fd.close()"
   ]
  },
  {
   "cell_type": "code",
   "execution_count": null,
   "metadata": {},
   "outputs": [],
   "source": []
  }
 ],
 "metadata": {
  "colab": {
   "name": "Purchasing Products",
   "provenance": []
  },
  "kernelspec": {
   "display_name": "Python 3",
   "language": "python",
   "name": "python3"
  },
  "language_info": {
   "codemirror_mode": {
    "name": "ipython",
    "version": 3
   },
   "file_extension": ".py",
   "mimetype": "text/x-python",
   "name": "python",
   "nbconvert_exporter": "python",
   "pygments_lexer": "ipython3",
   "version": "3.8.5"
  }
 },
 "nbformat": 4,
 "nbformat_minor": 1
}
